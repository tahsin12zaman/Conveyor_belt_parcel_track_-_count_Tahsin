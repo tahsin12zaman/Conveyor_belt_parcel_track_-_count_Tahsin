{
  "nbformat": 4,
  "nbformat_minor": 0,
  "metadata": {
    "colab": {
      "provenance": []
    },
    "kernelspec": {
      "name": "python3",
      "display_name": "Python 3"
    },
    "language_info": {
      "name": "python"
    }
  },
  "cells": [
    {
      "cell_type": "markdown",
      "source": [
        "Trained model here in this link:- https://hub.ultralytics.com/models/i8SbtNVrpPYOhuibBFDl"
      ],
      "metadata": {
        "id": "tyA3-uH65cRA"
      }
    },
    {
      "cell_type": "code",
      "source": [
        "%pip install ultralytics  # install\n",
        "from ultralytics import YOLO, checks, hub\n",
        "checks()  # checks"
      ],
      "metadata": {
        "colab": {
          "base_uri": "https://localhost:8080/"
        },
        "id": "jRO_liq-ryC0",
        "outputId": "30b5ea3a-1874-4039-dc1a-d57891f72477"
      },
      "execution_count": null,
      "outputs": [
        {
          "output_type": "stream",
          "name": "stdout",
          "text": [
            "Ultralytics YOLOv8.2.49 🚀 Python-3.10.12 torch-2.3.0+cu121 CPU (Intel Xeon 2.20GHz)\n",
            "Setup complete ✅ (2 CPUs, 12.7 GB RAM, 30.2/107.7 GB disk)\n"
          ]
        }
      ]
    },
    {
      "cell_type": "code",
      "source": [
        "# Log in to HUB using your API key (https://hub.ultralytics.com/settings?tab=api+keys)\n",
        "hub.login('my_api_key_was_here')\n",
        "\n",
        "# Load your model from HUB (replace 'YOUR_MODEL_ID' with your model ID)\n",
        "model = YOLO('https://hub.ultralytics.com/models/i8SbtNVrpPYOhuibBFDl')\n",
        "\n",
        "# Train the model\n",
        "results = model.train()\n",
        "\n",
        "model.save('my_model.pt')"
      ],
      "metadata": {
        "id": "CfrHd_OF-d8R"
      },
      "execution_count": null,
      "outputs": []
    }
  ]
}